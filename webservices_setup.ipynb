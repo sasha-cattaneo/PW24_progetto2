{
  "nbformat": 4,
  "nbformat_minor": 0,
  "metadata": {
    "colab": {
      "provenance": []
    },
    "kernelspec": {
      "name": "python3",
      "display_name": "Python 3"
    },
    "language_info": {
      "name": "python"
    }
  },
  "cells": [
    {
      "cell_type": "markdown",
      "source": [
        "# Setup su Windows"
      ],
      "metadata": {
        "id": "DqLQkUp8S5va"
      }
    },
    {
      "cell_type": "markdown",
      "source": [
        "## Setup webservice Tomcat"
      ],
      "metadata": {
        "id": "3AF5NXZ3rtwl"
      }
    },
    {
      "cell_type": "markdown",
      "source": [
        "Ogni comando, se non specificato, viene eseguito all'interno della cartella ottenuta estraendo lo zip del progetto"
      ],
      "metadata": {
        "id": "v7kAwFY7s5h5"
      }
    },
    {
      "cell_type": "markdown",
      "source": [
        "1. Spostare la webapp nella cartella *webapps* all'interno della cartella d'installazione di Tomcat (default per la versione 10.1: C:\\Program Files\\Apache Software Foundation\\Tomcat 10.1\\webapps)"
      ],
      "metadata": {
        "id": "gXXL6yGDr4_s"
      }
    },
    {
      "cell_type": "code",
      "source": [
        "move \".\\webapp_tomcat\\intermediario\" \"C:\\Program Files\\Apache Software Foundation\\Tomcat 10.1\\webapps\""
      ],
      "metadata": {
        "id": "y7Lum81_sO3R"
      },
      "execution_count": null,
      "outputs": []
    },
    {
      "cell_type": "markdown",
      "source": [
        "2. Avviare Apache Tomcat: dal menu delle applicazioni, cercare la cartella\n",
        "Apache Tomcat xxx e al suo interno selezionare\n",
        "Configure Tomcat"
      ],
      "metadata": {
        "id": "1LScPkKfseNe"
      }
    },
    {
      "cell_type": "markdown",
      "source": [
        "## Setup webservice Django"
      ],
      "metadata": {
        "id": "hx9Ilnkzrj8r"
      }
    },
    {
      "cell_type": "markdown",
      "source": [
        "Ogni comando, se non specificato, viene eseguito all'interno della cartella ottenuta estraendo lo zip del progetto"
      ],
      "metadata": {
        "id": "Ah1vmmEVtHOp"
      }
    },
    {
      "cell_type": "markdown",
      "source": [
        "1. Installare Django"
      ],
      "metadata": {
        "id": "pk312fhnTFgR"
      }
    },
    {
      "cell_type": "code",
      "execution_count": null,
      "metadata": {
        "id": "8zzi5wMsScsQ"
      },
      "outputs": [],
      "source": [
        "python install django"
      ]
    },
    {
      "cell_type": "markdown",
      "source": [
        "2. Installare psycopg2"
      ],
      "metadata": {
        "id": "D5sdDmNJTwxB"
      }
    },
    {
      "cell_type": "code",
      "source": [
        "python -m pip install psycopg2"
      ],
      "metadata": {
        "id": "9NK-ijgbT14O"
      },
      "execution_count": null,
      "outputs": []
    },
    {
      "cell_type": "markdown",
      "source": [
        "3. Installare requests"
      ],
      "metadata": {
        "id": "XPhNWwfzUZml"
      }
    },
    {
      "cell_type": "code",
      "source": [
        "python -m pip install requests"
      ],
      "metadata": {
        "id": "vza1gUsyUUur"
      },
      "execution_count": null,
      "outputs": []
    },
    {
      "cell_type": "markdown",
      "source": [
        "4. Entrare nella cartella della webapp"
      ],
      "metadata": {
        "id": "z-aYOd1QqzV-"
      }
    },
    {
      "cell_type": "code",
      "source": [
        "cd /webapp_django/webservice_importaDB"
      ],
      "metadata": {
        "id": "fQ4u1FJrq7MV"
      },
      "execution_count": null,
      "outputs": []
    },
    {
      "cell_type": "markdown",
      "source": [
        "5. Avviare la migrazione per poter utilizzare le sessioni"
      ],
      "metadata": {
        "id": "rALb3ww46IrF"
      }
    },
    {
      "cell_type": "code",
      "source": [
        "python manage.py migrate"
      ],
      "metadata": {
        "id": "Ja27BZEd6IDX"
      },
      "execution_count": null,
      "outputs": []
    },
    {
      "cell_type": "markdown",
      "source": [
        "5. Avviare il server django"
      ],
      "metadata": {
        "id": "aJRdagkKrPmv"
      }
    },
    {
      "cell_type": "code",
      "source": [
        "python manage.py runserver"
      ],
      "metadata": {
        "id": "06kNl_Yxrgmi"
      },
      "execution_count": null,
      "outputs": []
    },
    {
      "cell_type": "markdown",
      "source": [
        "# Importare il DB"
      ],
      "metadata": {
        "id": "a8RgkJU10TFj"
      }
    },
    {
      "cell_type": "markdown",
      "source": [
        "##### 1. Per poter collegarsi a postgreSQL e creare un nuovo DB è necessario avere un utente con il permesso di creare database. Ci sono 3 possibilità:"
      ],
      "metadata": {
        "id": "tTFlZhQmvHvw"
      }
    },
    {
      "cell_type": "markdown",
      "source": [
        "1. Utilizzando l'interfaccia grafica sviluppata specificare le informazioni richieste\n",
        "\n",
        "2. Chiamare l'url:\"*server_locale_django*/checkConnessioneDB/\" i seguenti parametri, tramite GET direttamente dall'url o POST tramite tool come Postman:\n",
        "'nome_DB', 'nome_utente', 'password', 'host', 'porta'\n",
        "\n",
        "   Esempio di URL completo: http://127.0.0.1:8000/checkConnessioneDB/?nome_DB=postgres&nome_utente=postgres&password=admin&host=localhost&porta=5432\n",
        "\n",
        "3. Creare in postgreSQL l'utente utilizzato di default nel webservice:\n",
        "  nome utente: 'PW24_headers_user'\n",
        "  password: 'PW24_headers_user'\n",
        "Questo utente deve avere il permesso di login e di creare database (oppure essere superuser).\n",
        "Inoltre deve esistere un database chiamato postgres e postgres deve essere hostato come localhost sulla porta 5432"
      ],
      "metadata": {
        "id": "bQ0t4mg0vfTj"
      }
    },
    {
      "cell_type": "markdown",
      "source": [
        "##### Per importare il DB da altervista si può utilizzare la pagina index della webapp Django oppure chiamando i seguenti url (in base all'operazione voluta):\n"
      ],
      "metadata": {
        "id": "CLdhxlJz0Juo"
      }
    },
    {
      "cell_type": "markdown",
      "source": [
        "##### 1. Importo di tutto il DB, ogni tabella:\n",
        "   \"*server_locale_django*/importaDB/\""
      ],
      "metadata": {
        "id": "p2qcJiv71LGF"
      }
    },
    {
      "cell_type": "markdown",
      "source": [
        "Ci sono 2 parametri opzionali da poter aggiungere alla chiamata.\n",
        "\n",
        "- operazione: operazione=noData, per ottenere solo le strutture delle tabelle\n",
        "opearazione=withData, per ottenere tutto (ottenibile anche senza specificare il parametro)\n",
        "\n",
        "- nomeDB:\n",
        "per specificare il nome del DB locale, da creare o già creato, in cui si vuole importare il DB\n",
        "\n",
        "Esempio di URL completo:\n",
        "http://127.0.0.1:8000/importaDB/?operazione=withData&nomeDB=test"
      ],
      "metadata": {
        "id": "hXZSmHXf2vmG"
      }
    },
    {
      "cell_type": "markdown",
      "source": [
        "##### 2. Importo solo di alcune tabelle a scelta:\n"
      ],
      "metadata": {
        "id": "0amhYnmI5j4X"
      }
    },
    {
      "cell_type": "markdown",
      "source": [
        "1. Solo struttura:\n",
        "\"server_locale_django/importaStruttura/\"\n",
        "\n",
        "Parametro obbligatorio:\n",
        "- table[], ripetuto una o più volte per indicare le tabelle da importare\n",
        "\n",
        "Parametro opzionale:\n",
        "- nomeDB: per specificare il nome del DB locale, da creare o già creato, in cui si vuole importare il DB\n",
        "\n",
        "\n",
        "http://127.0.0.1:8000/importaStruttura/?table[]=ombrellone&table[]=cliente&nomeDB=test\n"
      ],
      "metadata": {
        "id": "e2Ptx63aJQ9z"
      }
    },
    {
      "cell_type": "markdown",
      "source": [
        "2. Sia struttura che dati: \"server_locale_django/importaDati/\"\n",
        "\n",
        "Parametro obbligatorio:\n",
        "- table[], ripetuto una o più volte per indicare le tabelle da importare\n",
        "\n",
        "Parametro opzionale:\n",
        "- nomeDB: per specificare il nome del DB locale, da creare o già creato, in cui si vuole importare il DB\n",
        "\n",
        "http://127.0.0.1:8000/importaDati/?table[]=ombrellone&table[]=cliente&nomeDB=test\n"
      ],
      "metadata": {
        "id": "PddtVCdUKZ6s"
      }
    }
  ]
}